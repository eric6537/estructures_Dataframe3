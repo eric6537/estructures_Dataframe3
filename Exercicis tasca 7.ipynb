{
 "cells": [
  {
   "cell_type": "code",
   "execution_count": 1,
   "metadata": {},
   "outputs": [],
   "source": [
    "import pandas as pd\n",
    "import numpy as np\n",
    "import matplotlib.pyplot as plt\n",
    "import graphviz \n",
    "import seaborn as sns\n",
    "import xgboost as xgb\n",
    "from pprint import pprint\n",
    "from sklearn import tree, metrics, svm\n",
    "from sklearn.model_selection import train_test_split, KFold, cross_val_score\n",
    "from sklearn.preprocessing import StandardScaler, LabelEncoder\n",
    "from sklearn.neighbors import KNeighborsClassifier\n",
    "from sklearn.linear_model import LogisticRegression\n",
    "from sklearn.model_selection import RandomizedSearchCV, GridSearchCV\n"
   ]
  },
  {
   "cell_type": "markdown",
   "metadata": {},
   "source": [
    "# Exercici 1 \n",
    "Crea almenys dos models de classificació diferents per intentar predir el millor les classes de l'arxiu adjunt."
   ]
  },
  {
   "cell_type": "code",
   "execution_count": 2,
   "metadata": {},
   "outputs": [
    {
     "data": {
      "text/html": [
       "<div>\n",
       "<style scoped>\n",
       "    .dataframe tbody tr th:only-of-type {\n",
       "        vertical-align: middle;\n",
       "    }\n",
       "\n",
       "    .dataframe tbody tr th {\n",
       "        vertical-align: top;\n",
       "    }\n",
       "\n",
       "    .dataframe thead th {\n",
       "        text-align: right;\n",
       "    }\n",
       "</style>\n",
       "<table border=\"1\" class=\"dataframe\">\n",
       "  <thead>\n",
       "    <tr style=\"text-align: right;\">\n",
       "      <th></th>\n",
       "      <th>Class</th>\n",
       "      <th>Alcohol</th>\n",
       "      <th>Malic acid</th>\n",
       "      <th>Ash</th>\n",
       "      <th>Alcalinity of ash</th>\n",
       "      <th>Magnesium</th>\n",
       "      <th>Total phenols</th>\n",
       "      <th>Flavanoids</th>\n",
       "      <th>Nonflavanoid phenols</th>\n",
       "      <th>Proanthocyanins</th>\n",
       "      <th>Color intensity</th>\n",
       "      <th>Hue</th>\n",
       "      <th>OD280/OD315 of diluted wines</th>\n",
       "      <th>Prolin</th>\n",
       "    </tr>\n",
       "  </thead>\n",
       "  <tbody>\n",
       "    <tr>\n",
       "      <th>0</th>\n",
       "      <td>1</td>\n",
       "      <td>14.23</td>\n",
       "      <td>1.71</td>\n",
       "      <td>2.43</td>\n",
       "      <td>15.6</td>\n",
       "      <td>127</td>\n",
       "      <td>2.80</td>\n",
       "      <td>3.06</td>\n",
       "      <td>0.28</td>\n",
       "      <td>2.29</td>\n",
       "      <td>5.64</td>\n",
       "      <td>1.04</td>\n",
       "      <td>3.92</td>\n",
       "      <td>1065</td>\n",
       "    </tr>\n",
       "    <tr>\n",
       "      <th>1</th>\n",
       "      <td>1</td>\n",
       "      <td>13.20</td>\n",
       "      <td>1.78</td>\n",
       "      <td>2.14</td>\n",
       "      <td>11.2</td>\n",
       "      <td>100</td>\n",
       "      <td>2.65</td>\n",
       "      <td>2.76</td>\n",
       "      <td>0.26</td>\n",
       "      <td>1.28</td>\n",
       "      <td>4.38</td>\n",
       "      <td>1.05</td>\n",
       "      <td>3.40</td>\n",
       "      <td>1050</td>\n",
       "    </tr>\n",
       "    <tr>\n",
       "      <th>2</th>\n",
       "      <td>1</td>\n",
       "      <td>13.16</td>\n",
       "      <td>2.36</td>\n",
       "      <td>2.67</td>\n",
       "      <td>18.6</td>\n",
       "      <td>101</td>\n",
       "      <td>2.80</td>\n",
       "      <td>3.24</td>\n",
       "      <td>0.30</td>\n",
       "      <td>2.81</td>\n",
       "      <td>5.68</td>\n",
       "      <td>1.03</td>\n",
       "      <td>3.17</td>\n",
       "      <td>1185</td>\n",
       "    </tr>\n",
       "    <tr>\n",
       "      <th>3</th>\n",
       "      <td>1</td>\n",
       "      <td>14.37</td>\n",
       "      <td>1.95</td>\n",
       "      <td>2.50</td>\n",
       "      <td>16.8</td>\n",
       "      <td>113</td>\n",
       "      <td>3.85</td>\n",
       "      <td>3.49</td>\n",
       "      <td>0.24</td>\n",
       "      <td>2.18</td>\n",
       "      <td>7.80</td>\n",
       "      <td>0.86</td>\n",
       "      <td>3.45</td>\n",
       "      <td>1480</td>\n",
       "    </tr>\n",
       "    <tr>\n",
       "      <th>4</th>\n",
       "      <td>1</td>\n",
       "      <td>13.24</td>\n",
       "      <td>2.59</td>\n",
       "      <td>2.87</td>\n",
       "      <td>21.0</td>\n",
       "      <td>118</td>\n",
       "      <td>2.80</td>\n",
       "      <td>2.69</td>\n",
       "      <td>0.39</td>\n",
       "      <td>1.82</td>\n",
       "      <td>4.32</td>\n",
       "      <td>1.04</td>\n",
       "      <td>2.93</td>\n",
       "      <td>735</td>\n",
       "    </tr>\n",
       "  </tbody>\n",
       "</table>\n",
       "</div>"
      ],
      "text/plain": [
       "   Class  Alcohol  Malic acid   Ash  Alcalinity of ash  Magnesium  \\\n",
       "0      1    14.23        1.71  2.43               15.6        127   \n",
       "1      1    13.20        1.78  2.14               11.2        100   \n",
       "2      1    13.16        2.36  2.67               18.6        101   \n",
       "3      1    14.37        1.95  2.50               16.8        113   \n",
       "4      1    13.24        2.59  2.87               21.0        118   \n",
       "\n",
       "   Total phenols  Flavanoids  Nonflavanoid phenols  Proanthocyanins  \\\n",
       "0           2.80        3.06                  0.28             2.29   \n",
       "1           2.65        2.76                  0.26             1.28   \n",
       "2           2.80        3.24                  0.30             2.81   \n",
       "3           3.85        3.49                  0.24             2.18   \n",
       "4           2.80        2.69                  0.39             1.82   \n",
       "\n",
       "   Color intensity   Hue  OD280/OD315 of diluted wines  Prolin  \n",
       "0             5.64  1.04                          3.92    1065  \n",
       "1             4.38  1.05                          3.40    1050  \n",
       "2             5.68  1.03                          3.17    1185  \n",
       "3             7.80  0.86                          3.45    1480  \n",
       "4             4.32  1.04                          2.93     735  "
      ]
     },
     "execution_count": 2,
     "metadata": {},
     "output_type": "execute_result"
    }
   ],
   "source": [
    "columnes = [\"Class\", \"Alcohol\", \"Malic acid\", \"Ash\", \"Alcalinity of ash\", \"Magnesium\", \"Total phenols\", \"Flavanoids\", \"Nonflavanoid phenols\", \"Proanthocyanins\", \"Color intensity\", \"Hue\", \"OD280/OD315 of diluted wines\", \"Prolin\"]\n",
    "\n",
    "df = pd.read_csv(\"wineData.txt\", sep = ',', header=None, names=columnes)\n",
    "\n",
    "df.head()"
   ]
  },
  {
   "cell_type": "code",
   "execution_count": 3,
   "metadata": {},
   "outputs": [
    {
     "name": "stdout",
     "output_type": "stream",
     "text": [
      "<class 'pandas.core.frame.DataFrame'>\n",
      "RangeIndex: 178 entries, 0 to 177\n",
      "Data columns (total 14 columns):\n",
      " #   Column                        Non-Null Count  Dtype  \n",
      "---  ------                        --------------  -----  \n",
      " 0   Class                         178 non-null    int64  \n",
      " 1   Alcohol                       178 non-null    float64\n",
      " 2   Malic acid                    178 non-null    float64\n",
      " 3   Ash                           178 non-null    float64\n",
      " 4   Alcalinity of ash             178 non-null    float64\n",
      " 5   Magnesium                     178 non-null    int64  \n",
      " 6   Total phenols                 178 non-null    float64\n",
      " 7   Flavanoids                    178 non-null    float64\n",
      " 8   Nonflavanoid phenols          178 non-null    float64\n",
      " 9   Proanthocyanins               178 non-null    float64\n",
      " 10  Color intensity               178 non-null    float64\n",
      " 11  Hue                           178 non-null    float64\n",
      " 12  OD280/OD315 of diluted wines  178 non-null    float64\n",
      " 13  Prolin                        178 non-null    int64  \n",
      "dtypes: float64(11), int64(3)\n",
      "memory usage: 19.6 KB\n"
     ]
    }
   ],
   "source": [
    "df.info()"
   ]
  },
  {
   "cell_type": "code",
   "execution_count": 4,
   "metadata": {},
   "outputs": [
    {
     "data": {
      "text/html": [
       "<div>\n",
       "<style scoped>\n",
       "    .dataframe tbody tr th:only-of-type {\n",
       "        vertical-align: middle;\n",
       "    }\n",
       "\n",
       "    .dataframe tbody tr th {\n",
       "        vertical-align: top;\n",
       "    }\n",
       "\n",
       "    .dataframe thead th {\n",
       "        text-align: right;\n",
       "    }\n",
       "</style>\n",
       "<table border=\"1\" class=\"dataframe\">\n",
       "  <thead>\n",
       "    <tr style=\"text-align: right;\">\n",
       "      <th></th>\n",
       "      <th>count</th>\n",
       "      <th>mean</th>\n",
       "      <th>std</th>\n",
       "      <th>min</th>\n",
       "      <th>25%</th>\n",
       "      <th>50%</th>\n",
       "      <th>75%</th>\n",
       "      <th>max</th>\n",
       "    </tr>\n",
       "  </thead>\n",
       "  <tbody>\n",
       "    <tr>\n",
       "      <th>Class</th>\n",
       "      <td>178.0</td>\n",
       "      <td>1.938202</td>\n",
       "      <td>0.775035</td>\n",
       "      <td>1.00</td>\n",
       "      <td>1.0000</td>\n",
       "      <td>2.000</td>\n",
       "      <td>3.0000</td>\n",
       "      <td>3.00</td>\n",
       "    </tr>\n",
       "    <tr>\n",
       "      <th>Alcohol</th>\n",
       "      <td>178.0</td>\n",
       "      <td>13.000618</td>\n",
       "      <td>0.811827</td>\n",
       "      <td>11.03</td>\n",
       "      <td>12.3625</td>\n",
       "      <td>13.050</td>\n",
       "      <td>13.6775</td>\n",
       "      <td>14.83</td>\n",
       "    </tr>\n",
       "    <tr>\n",
       "      <th>Malic acid</th>\n",
       "      <td>178.0</td>\n",
       "      <td>2.336348</td>\n",
       "      <td>1.117146</td>\n",
       "      <td>0.74</td>\n",
       "      <td>1.6025</td>\n",
       "      <td>1.865</td>\n",
       "      <td>3.0825</td>\n",
       "      <td>5.80</td>\n",
       "    </tr>\n",
       "    <tr>\n",
       "      <th>Ash</th>\n",
       "      <td>178.0</td>\n",
       "      <td>2.366517</td>\n",
       "      <td>0.274344</td>\n",
       "      <td>1.36</td>\n",
       "      <td>2.2100</td>\n",
       "      <td>2.360</td>\n",
       "      <td>2.5575</td>\n",
       "      <td>3.23</td>\n",
       "    </tr>\n",
       "    <tr>\n",
       "      <th>Alcalinity of ash</th>\n",
       "      <td>178.0</td>\n",
       "      <td>19.494944</td>\n",
       "      <td>3.339564</td>\n",
       "      <td>10.60</td>\n",
       "      <td>17.2000</td>\n",
       "      <td>19.500</td>\n",
       "      <td>21.5000</td>\n",
       "      <td>30.00</td>\n",
       "    </tr>\n",
       "    <tr>\n",
       "      <th>Magnesium</th>\n",
       "      <td>178.0</td>\n",
       "      <td>99.741573</td>\n",
       "      <td>14.282484</td>\n",
       "      <td>70.00</td>\n",
       "      <td>88.0000</td>\n",
       "      <td>98.000</td>\n",
       "      <td>107.0000</td>\n",
       "      <td>162.00</td>\n",
       "    </tr>\n",
       "    <tr>\n",
       "      <th>Total phenols</th>\n",
       "      <td>178.0</td>\n",
       "      <td>2.295112</td>\n",
       "      <td>0.625851</td>\n",
       "      <td>0.98</td>\n",
       "      <td>1.7425</td>\n",
       "      <td>2.355</td>\n",
       "      <td>2.8000</td>\n",
       "      <td>3.88</td>\n",
       "    </tr>\n",
       "    <tr>\n",
       "      <th>Flavanoids</th>\n",
       "      <td>178.0</td>\n",
       "      <td>2.029270</td>\n",
       "      <td>0.998859</td>\n",
       "      <td>0.34</td>\n",
       "      <td>1.2050</td>\n",
       "      <td>2.135</td>\n",
       "      <td>2.8750</td>\n",
       "      <td>5.08</td>\n",
       "    </tr>\n",
       "    <tr>\n",
       "      <th>Nonflavanoid phenols</th>\n",
       "      <td>178.0</td>\n",
       "      <td>0.361854</td>\n",
       "      <td>0.124453</td>\n",
       "      <td>0.13</td>\n",
       "      <td>0.2700</td>\n",
       "      <td>0.340</td>\n",
       "      <td>0.4375</td>\n",
       "      <td>0.66</td>\n",
       "    </tr>\n",
       "    <tr>\n",
       "      <th>Proanthocyanins</th>\n",
       "      <td>178.0</td>\n",
       "      <td>1.590899</td>\n",
       "      <td>0.572359</td>\n",
       "      <td>0.41</td>\n",
       "      <td>1.2500</td>\n",
       "      <td>1.555</td>\n",
       "      <td>1.9500</td>\n",
       "      <td>3.58</td>\n",
       "    </tr>\n",
       "    <tr>\n",
       "      <th>Color intensity</th>\n",
       "      <td>178.0</td>\n",
       "      <td>5.058090</td>\n",
       "      <td>2.318286</td>\n",
       "      <td>1.28</td>\n",
       "      <td>3.2200</td>\n",
       "      <td>4.690</td>\n",
       "      <td>6.2000</td>\n",
       "      <td>13.00</td>\n",
       "    </tr>\n",
       "    <tr>\n",
       "      <th>Hue</th>\n",
       "      <td>178.0</td>\n",
       "      <td>0.957449</td>\n",
       "      <td>0.228572</td>\n",
       "      <td>0.48</td>\n",
       "      <td>0.7825</td>\n",
       "      <td>0.965</td>\n",
       "      <td>1.1200</td>\n",
       "      <td>1.71</td>\n",
       "    </tr>\n",
       "    <tr>\n",
       "      <th>OD280/OD315 of diluted wines</th>\n",
       "      <td>178.0</td>\n",
       "      <td>2.611685</td>\n",
       "      <td>0.709990</td>\n",
       "      <td>1.27</td>\n",
       "      <td>1.9375</td>\n",
       "      <td>2.780</td>\n",
       "      <td>3.1700</td>\n",
       "      <td>4.00</td>\n",
       "    </tr>\n",
       "    <tr>\n",
       "      <th>Prolin</th>\n",
       "      <td>178.0</td>\n",
       "      <td>746.893258</td>\n",
       "      <td>314.907474</td>\n",
       "      <td>278.00</td>\n",
       "      <td>500.5000</td>\n",
       "      <td>673.500</td>\n",
       "      <td>985.0000</td>\n",
       "      <td>1680.00</td>\n",
       "    </tr>\n",
       "  </tbody>\n",
       "</table>\n",
       "</div>"
      ],
      "text/plain": [
       "                              count        mean         std     min       25%  \\\n",
       "Class                         178.0    1.938202    0.775035    1.00    1.0000   \n",
       "Alcohol                       178.0   13.000618    0.811827   11.03   12.3625   \n",
       "Malic acid                    178.0    2.336348    1.117146    0.74    1.6025   \n",
       "Ash                           178.0    2.366517    0.274344    1.36    2.2100   \n",
       "Alcalinity of ash             178.0   19.494944    3.339564   10.60   17.2000   \n",
       "Magnesium                     178.0   99.741573   14.282484   70.00   88.0000   \n",
       "Total phenols                 178.0    2.295112    0.625851    0.98    1.7425   \n",
       "Flavanoids                    178.0    2.029270    0.998859    0.34    1.2050   \n",
       "Nonflavanoid phenols          178.0    0.361854    0.124453    0.13    0.2700   \n",
       "Proanthocyanins               178.0    1.590899    0.572359    0.41    1.2500   \n",
       "Color intensity               178.0    5.058090    2.318286    1.28    3.2200   \n",
       "Hue                           178.0    0.957449    0.228572    0.48    0.7825   \n",
       "OD280/OD315 of diluted wines  178.0    2.611685    0.709990    1.27    1.9375   \n",
       "Prolin                        178.0  746.893258  314.907474  278.00  500.5000   \n",
       "\n",
       "                                  50%       75%      max  \n",
       "Class                           2.000    3.0000     3.00  \n",
       "Alcohol                        13.050   13.6775    14.83  \n",
       "Malic acid                      1.865    3.0825     5.80  \n",
       "Ash                             2.360    2.5575     3.23  \n",
       "Alcalinity of ash              19.500   21.5000    30.00  \n",
       "Magnesium                      98.000  107.0000   162.00  \n",
       "Total phenols                   2.355    2.8000     3.88  \n",
       "Flavanoids                      2.135    2.8750     5.08  \n",
       "Nonflavanoid phenols            0.340    0.4375     0.66  \n",
       "Proanthocyanins                 1.555    1.9500     3.58  \n",
       "Color intensity                 4.690    6.2000    13.00  \n",
       "Hue                             0.965    1.1200     1.71  \n",
       "OD280/OD315 of diluted wines    2.780    3.1700     4.00  \n",
       "Prolin                        673.500  985.0000  1680.00  "
      ]
     },
     "execution_count": 4,
     "metadata": {},
     "output_type": "execute_result"
    }
   ],
   "source": [
    "df.describe().transpose()"
   ]
  },
  {
   "cell_type": "code",
   "execution_count": 5,
   "metadata": {},
   "outputs": [],
   "source": [
    "features = [\"Alcohol\", \"Malic acid\", \"Ash\", \"Alcalinity of ash\", \"Magnesium\", \"Total phenols\", \"Flavanoids\", \"Nonflavanoid phenols\", \"Proanthocyanins\", \"Color intensity\", \"Hue\", \"OD280/OD315 of diluted wines\", \"Prolin\"]\n",
    "target = [\"Class\"]\n",
    "\n",
    "X = df[features]\n",
    "y = np.array(df[target]).reshape(-1)\n",
    "\n",
    "X_train, X_test, y_train, y_test = train_test_split(X, y, stratify = y, test_size=0.25, random_state=42)"
   ]
  },
  {
   "cell_type": "code",
   "execution_count": 6,
   "metadata": {},
   "outputs": [
    {
     "name": "stdout",
     "output_type": "stream",
     "text": [
      "[1 2 1 1 2 1 1 2 2 3 2 2 3 3 1 2 2 1 1 3 3 3 1 1 2 2 1 2 1 2 1 3 2 3 3 2 1\n",
      " 3 3 2 3 2 1 2 2]\n",
      "[array([1, 2, 1, 1, 2, 1, 1, 2, 2, 3, 2, 2, 3, 3, 1, 2, 2, 1, 1, 3, 3, 3,\n",
      "       1, 1, 2, 2, 1, 2, 2, 2, 1, 3, 2, 3, 3, 2, 1, 3, 2, 2, 3, 2, 1, 2,\n",
      "       2], dtype=int64), array([1, 2, 1, 1, 2, 1, 1, 2, 2, 2, 2, 2, 3, 3, 1, 2, 2, 1, 1, 3, 3, 3,\n",
      "       1, 1, 2, 2, 1, 2, 1, 2, 1, 3, 2, 3, 3, 2, 1, 3, 2, 2, 3, 2, 1, 2,\n",
      "       2], dtype=int64), array([1, 2, 1, 1, 2, 1, 1, 2, 2, 3, 2, 2, 3, 3, 1, 2, 2, 1, 1, 3, 3, 3,\n",
      "       1, 1, 3, 2, 1, 2, 1, 2, 1, 3, 2, 3, 3, 2, 1, 3, 3, 2, 3, 2, 1, 2,\n",
      "       2], dtype=int64), array([1, 2, 1, 1, 2, 1, 1, 2, 2, 3, 2, 2, 3, 3, 1, 2, 2, 1, 1, 3, 3, 3,\n",
      "       1, 1, 2, 2, 1, 2, 1, 2, 1, 3, 2, 3, 3, 2, 1, 3, 3, 2, 3, 2, 1, 2,\n",
      "       2], dtype=int64), array([1, 2, 1, 1, 2, 1, 1, 2, 2, 2, 2, 2, 3, 3, 1, 2, 2, 1, 1, 3, 3, 3,\n",
      "       1, 1, 2, 2, 1, 2, 1, 2, 1, 3, 2, 3, 3, 2, 1, 3, 2, 2, 3, 2, 1, 2,\n",
      "       2], dtype=int64)]\n"
     ]
    }
   ],
   "source": [
    "dtc = tree.DecisionTreeClassifier()\n",
    "dtc.fit(X_train,y_train)\n",
    "y_pred_dtc = dtc.predict(X_test)\n",
    "\n",
    "svmc = svm.SVC(kernel='linear')\n",
    "svmc.fit(X_train, y_train)\n",
    "y_pred_svmc = svmc.predict(X_test)\n",
    "\n",
    "xg = xgb.XGBClassifier(n_estimators = 400, learning_rate = 0.1, max_depth = 3)\n",
    "le = LabelEncoder()\n",
    "y_train2 = le.fit_transform(y_train)\n",
    "xg.fit(X_train, y_train2)\n",
    "y_pred_xg = xg.predict(X_test)+1\n",
    "\n",
    "lr = LogisticRegression(max_iter=10000)\n",
    "lr.fit(X_train, y_train)\n",
    "y_pred_lr = lr.predict(X_test)\n",
    "\n",
    "scaler = StandardScaler()\n",
    "scaler.fit(X_train)\n",
    "X_train_scaled = scaler.transform(X_train)\n",
    "X_test_scaled = scaler.transform(X_test)\n",
    "knc = KNeighborsClassifier(n_neighbors=10)\n",
    "knc.fit(X_train_scaled, y_train)\n",
    "y_pred_knc = knc.predict(X_test_scaled)\n",
    "\n",
    "print(y_test)\n",
    "prediccions = [y_pred_dtc,y_pred_svmc,y_pred_knc,y_pred_xg,y_pred_lr]\n",
    "print(prediccions)"
   ]
  },
  {
   "cell_type": "markdown",
   "metadata": {},
   "source": [
    "# Exercici 2 \n",
    "Compara els models de classificació utilitzant la precisió (accuracy), una matriu de confiança i d’altres mètriques més avançades."
   ]
  },
  {
   "cell_type": "code",
   "execution_count": 7,
   "metadata": {},
   "outputs": [
    {
     "name": "stdout",
     "output_type": "stream",
     "text": [
      "Accuracy:\n",
      " -Decision Tree:          0.9555555555555556\n",
      " -Support Vector Machine: 0.9555555555555556\n",
      " -K-Nearest Neighbour:    0.9777777777777777\n",
      " -XGBoost:                1.0\n",
      " -Logistic Regression:    0.9555555555555556\n"
     ]
    }
   ],
   "source": [
    "#Accuracy\n",
    "\n",
    "classificadors = [' -Decision Tree:         ',' -Support Vector Machine:',' -K-Nearest Neighbour:   ',' -XGBoost:               ',' -Logistic Regression:   ']\n",
    "accuracy = []\n",
    "print('Accuracy:')\n",
    "i=0\n",
    "for y_pred in prediccions:\n",
    "    score = metrics.accuracy_score(y_test, y_pred)\n",
    "    accuracy.append(score)\n",
    "    print(classificadors[i],score)\n",
    "    i+=1"
   ]
  },
  {
   "cell_type": "code",
   "execution_count": 8,
   "metadata": {},
   "outputs": [
    {
     "data": {
      "image/png": "[encoded data removed]",
      "text/plain": [
       "<Figure size 1440x360 with 10 Axes>"
      ]
     },
     "metadata": {
      "needs_background": "light"
     },
     "output_type": "display_data"
    }
   ],
   "source": [
    "#Confusion matrix\n",
    "\n",
    "i=0\n",
    "cm = []\n",
    "for y_pred in prediccions:\n",
    "    matriu = metrics.confusion_matrix(y_test, y_pred)\n",
    "    cm.append(matriu)\n",
    "    i+=1\n",
    "\n",
    "classificadors2 = ['Decision Tree','Support Vector Machines','K-Nearest Neighbours','XGBoost','Logistic Regression']\n",
    "\n",
    "plt.figure(figsize=(20,5))\n",
    "i=0\n",
    "\n",
    "for matrix in cm:\n",
    "    plt.subplot(1, 5, i+1)\n",
    "    sns.heatmap(matrix, vmin = 0, vmax = 18, annot=True, cbar_kws = {'shrink':0.7}, fmt=\".0f\", linewidths=.5, square = True, cmap = 'magma')\n",
    "    plt.ylabel('Actual Class')\n",
    "    plt.xlabel('Predicted Class')\n",
    "    all_sample_title = classificadors2[i]+'\\nAccuracy Score: {:.3f}'.format(accuracy[i])\n",
    "    plt.title(all_sample_title, size = 13)\n",
    "    i+=1\n",
    "\n"
   ]
  },
  {
   "cell_type": "code",
   "execution_count": 9,
   "metadata": {},
   "outputs": [
    {
     "name": "stdout",
     "output_type": "stream",
     "text": [
      "Precision:\n",
      " -Decision Tree:          [1.  0.9 1. ]\n",
      " -Support Vector Machine: [1.  0.9 1. ]\n",
      " -K-Nearest Neighbour:    [1.         1.         0.92307692]\n",
      " -XGBoost:                [1. 1. 1.]\n",
      " -Logistic Regression:    [1.  0.9 1. ]\n",
      "\n",
      "\n",
      "Recall:\n",
      " -Decision Tree:          [0.93333333 1.         0.91666667]\n",
      " -Support Vector Machine: [1.         1.         0.83333333]\n",
      " -K-Nearest Neighbour:    [1.         0.94444444 1.        ]\n",
      " -XGBoost:                [1. 1. 1.]\n",
      " -Logistic Regression:    [1.         1.         0.83333333]\n"
     ]
    }
   ],
   "source": [
    "#Precision\n",
    "\n",
    "precision = []\n",
    "print('Precision:')\n",
    "i=0\n",
    "for y_pred in prediccions:\n",
    "    score = metrics.precision_score(y_test, y_pred, average = None)\n",
    "    precision.append(score)\n",
    "    print(classificadors[i],score)\n",
    "    i+=1\n",
    "\n",
    "#Recall\n",
    "\n",
    "print('\\n')\n",
    "recall = []\n",
    "print('Recall:')\n",
    "i=0\n",
    "for y_pred in prediccions:\n",
    "    score = metrics.recall_score(y_test, y_pred, average = None)\n",
    "    recall.append(score)\n",
    "    print(classificadors[i],score)\n",
    "    i+=1"
   ]
  },
  {
   "cell_type": "code",
   "execution_count": 10,
   "metadata": {},
   "outputs": [
    {
     "name": "stdout",
     "output_type": "stream",
     "text": [
      "F1 score:\n",
      " -Decision Tree:          [0.96551724 0.94736842 0.95652174]\n",
      " -Support Vector Machine: [1.         0.94736842 0.90909091]\n",
      " -K-Nearest Neighbour:    [1.         0.97142857 0.96      ]\n",
      " -XGBoost:                [1. 1. 1.]\n",
      " -Logistic Regression:    [1.         0.94736842 0.90909091]\n"
     ]
    }
   ],
   "source": [
    "#F1 score\n",
    "\n",
    "f1 = []\n",
    "print('F1 score:')\n",
    "i=0\n",
    "for y_pred in prediccions:\n",
    "    score = metrics.f1_score(y_test, y_pred, average = None)\n",
    "    f1.append(score)\n",
    "    print(classificadors[i],score)\n",
    "    i+=1"
   ]
  },
  {
   "cell_type": "code",
   "execution_count": 11,
   "metadata": {},
   "outputs": [
    {
     "data": {
      "image/png": "[encoded data removed]",
      "text/plain": [
       "<Figure size 1440x216 with 5 Axes>"
      ]
     },
     "metadata": {
      "needs_background": "light"
     },
     "output_type": "display_data"
    }
   ],
   "source": [
    "#ROC curve\n",
    "\n",
    "classificadors2 = ['Decision Tree','Support Vector Machines','K-Nearest Neighbours','XGBoost','Logistic Regression']\n",
    "\n",
    "plt.figure(figsize=(20,3))\n",
    "i=0\n",
    "\n",
    "for y_pred in prediccions:\n",
    "    fpr, tpr, _ = metrics.roc_curve(y_test,  prediccions[i], pos_label=3)\n",
    "    plt.subplot(1, 5, i+1)\n",
    "    plt.plot(fpr,tpr)\n",
    "    plt.ylabel('True Positive Rate')\n",
    "    plt.xlabel('False Positive Rate')\n",
    "    all_sample_title = classificadors2[i]+'\\nROC curve'\n",
    "    plt.title(all_sample_title, size = 13)\n",
    "    i+=1"
   ]
  },
  {
   "cell_type": "code",
   "execution_count": 12,
   "metadata": {},
   "outputs": [],
   "source": [
    "from sklearn.preprocessing import label_binarize\n",
    "\n",
    "y = label_binarize(y, classes=[1, 2, 3])\n",
    "n_classes = y.shape[1]"
   ]
  },
  {
   "cell_type": "code",
   "execution_count": 13,
   "metadata": {},
   "outputs": [
    {
     "name": "stdout",
     "output_type": "stream",
     "text": [
      "\n",
      "auc scores\n",
      "{1: 0.9666666666666667, 2: 0.962962962962963, 3: 0.9583333333333333}\n"
     ]
    }
   ],
   "source": [
    "def roc_auc_score_multiclass(actual_class, pred_class, average = \"macro\"):\n",
    "    #creating a set of all the unique classes using the actual class list\n",
    "    unique_class = set(actual_class)\n",
    "    roc_auc_dict = {}\n",
    "    for per_class in unique_class:\n",
    "        #creating a list of all the classes except the current class \n",
    "        other_class = [x for x in unique_class if x != per_class]\n",
    "\n",
    "        #marking the current class as 1 and all other classes as 0\n",
    "        new_actual_class = [0 if x in other_class else 1 for x in actual_class]\n",
    "        new_pred_class = [0 if x in other_class else 1 for x in pred_class]\n",
    "\n",
    "        #using the sklearn metrics method to calculate the roc_auc_score\n",
    "        roc_auc = metrics.roc_auc_score(new_actual_class, new_pred_class, average = average)\n",
    "        roc_auc_dict[per_class] = roc_auc\n",
    "\n",
    "    return roc_auc_dict\n",
    "\n",
    "print(\"\\nauc scores\")\n",
    "\n",
    "lr_roc_auc_multiclass = roc_auc_score_multiclass(y_test, prediccions[0])\n",
    "print(lr_roc_auc_multiclass)\n"
   ]
  },
  {
   "cell_type": "markdown",
   "metadata": {},
   "source": [
    "# Exercici 3 \n",
    "Entrena’ls usant els diferents paràmetres que admeten per tal de millorar-ne la predicció."
   ]
  },
  {
   "cell_type": "code",
   "execution_count": 14,
   "metadata": {
    "scrolled": true
   },
   "outputs": [
    {
     "name": "stdout",
     "output_type": "stream",
     "text": [
      "{'ccp_alpha': 0.0,\n",
      " 'class_weight': None,\n",
      " 'criterion': 'gini',\n",
      " 'max_depth': None,\n",
      " 'max_features': None,\n",
      " 'max_leaf_nodes': None,\n",
      " 'min_impurity_decrease': 0.0,\n",
      " 'min_samples_leaf': 1,\n",
      " 'min_samples_split': 2,\n",
      " 'min_weight_fraction_leaf': 0.0,\n",
      " 'random_state': None,\n",
      " 'splitter': 'best'}\n"
     ]
    }
   ],
   "source": [
    "pprint(dtc.get_params())"
   ]
  },
  {
   "cell_type": "code",
   "execution_count": 15,
   "metadata": {},
   "outputs": [
    {
     "name": "stdout",
     "output_type": "stream",
     "text": [
      "Fitting 3 folds for each of 100 candidates, totalling 300 fits\n"
     ]
    },
    {
     "name": "stderr",
     "output_type": "stream",
     "text": [
      "D:\\Plant\\Programes\\Anaconda\\lib\\site-packages\\sklearn\\model_selection\\_validation.py:378: FitFailedWarning: \n",
      "42 fits failed out of a total of 300.\n",
      "The score on these train-test partitions for these parameters will be set to nan.\n",
      "If these failures are not expected, you can try to debug them by setting error_score='raise'.\n",
      "\n",
      "Below are more details about the failures:\n",
      "--------------------------------------------------------------------------------\n",
      "42 fits failed with the following error:\n",
      "Traceback (most recent call last):\n",
      "  File \"D:\\Plant\\Programes\\Anaconda\\lib\\site-packages\\sklearn\\model_selection\\_validation.py\", line 686, in _fit_and_score\n",
      "    estimator.fit(X_train, y_train, **fit_params)\n",
      "  File \"D:\\Plant\\Programes\\Anaconda\\lib\\site-packages\\sklearn\\tree\\_classes.py\", line 969, in fit\n",
      "    super().fit(\n",
      "  File \"D:\\Plant\\Programes\\Anaconda\\lib\\site-packages\\sklearn\\tree\\_classes.py\", line 265, in fit\n",
      "    check_scalar(\n",
      "  File \"D:\\Plant\\Programes\\Anaconda\\lib\\site-packages\\sklearn\\utils\\validation.py\", line 1480, in check_scalar\n",
      "    raise ValueError(\n",
      "ValueError: min_samples_split == 1, must be >= 2.\n",
      "\n",
      "  warnings.warn(some_fits_failed_message, FitFailedWarning)\n",
      "D:\\Plant\\Programes\\Anaconda\\lib\\site-packages\\sklearn\\model_selection\\_search.py:953: UserWarning: One or more of the test scores are non-finite: [0.45791246 0.72239057 0.39848485 0.87929293        nan 0.57154882\n",
      " 0.39848485 0.39848485 0.33838384 0.84225589 0.88737374 0.39848485\n",
      " 0.33838384 0.48888889        nan 0.84225589 0.33838384 0.33838384\n",
      " 0.33838384 0.68316498 0.39848485 0.41245791 0.57154882 0.79646465\n",
      " 0.39848485 0.53181818 0.40589226 0.33838384 0.39848485 0.78114478\n",
      " 0.46515152        nan 0.53181818 0.69848485 0.45791246 0.33838384\n",
      " 0.33838384        nan 0.33838384 0.57154882        nan 0.4503367\n",
      " 0.33838384 0.46515152 0.59360269        nan 0.39848485        nan\n",
      " 0.39848485 0.33838384 0.33838384 0.49393939 0.39848485 0.87962963\n",
      " 0.7523569  0.78855219 0.33838384        nan 0.39848485        nan\n",
      " 0.33838384 0.49478114 0.546633   0.33838384 0.33838384 0.86447811\n",
      " 0.83484848 0.78114478 0.60942761 0.33838384 0.36060606 0.68434343\n",
      " 0.83468013        nan        nan 0.33838384 0.39848485 0.40589226\n",
      " 0.33838384        nan 0.88720539 0.88754209 0.87912458 0.39848485\n",
      " 0.61060606 0.39848485 0.39848485 0.77356902        nan 0.45791246\n",
      " 0.86464646 0.87239057 0.51885522 0.57154882 0.42727273        nan\n",
      " 0.87188552 0.33838384 0.82626263 0.33838384]\n",
      "  warnings.warn(\n"
     ]
    },
    {
     "name": "stdout",
     "output_type": "stream",
     "text": [
      "{'ccp_alpha': 0.0,\n",
      " 'class_weight': None,\n",
      " 'criterion': 'gini',\n",
      " 'max_depth': None,\n",
      " 'max_features': None,\n",
      " 'max_leaf_nodes': None,\n",
      " 'min_impurity_decrease': 0.0,\n",
      " 'min_samples_leaf': 1,\n",
      " 'min_samples_split': 2,\n",
      " 'min_weight_fraction_leaf': 0.0,\n",
      " 'random_state': 42,\n",
      " 'splitter': 'best'}\n",
      "{'ccp_alpha': 0.05,\n",
      " 'class_weight': 'balanced',\n",
      " 'criterion': 'entropy',\n",
      " 'max_depth': 4,\n",
      " 'max_features': 'log2',\n",
      " 'min_impurity_decrease': 0.0,\n",
      " 'min_samples_leaf': 1,\n",
      " 'min_samples_split': 8,\n",
      " 'splitter': 'best'}\n"
     ]
    },
    {
     "data": {
      "image/png": "[encoded data removed]",
      "text/plain": [
       "<Figure size 432x288 with 4 Axes>"
      ]
     },
     "metadata": {
      "needs_background": "light"
     },
     "output_type": "display_data"
    }
   ],
   "source": [
    "#Decision tree classifier hyperparameter tuning:\n",
    "hyperparameters = {'criterion' : ['gini','entropy','log_loss'],\n",
    "                   'splitter' : ['best','random'],\n",
    "                   'max_depth' : range(1, 10),\n",
    "                   'min_samples_split' : range(1,10),\n",
    "                   'min_samples_leaf' : range(1,5),\n",
    "                   'max_features' : [1,2,3,4,5,'auto','sqrt','log2',None],\n",
    "                   'min_impurity_decrease' : [0.0,0.05,0.1,0.2,0.3,0.4,0.5],\n",
    "                   'class_weight' : ['balanced',None],\n",
    "                   'ccp_alpha' : [0.0,0.05,0.1,0.15,0.2]\n",
    "                   }\n",
    "\n",
    "dtc = tree.DecisionTreeClassifier(random_state=42)\n",
    "dtc_random = RandomizedSearchCV(estimator = dtc, param_distributions = hyperparameters, n_iter = 100, cv = 3, verbose=2, random_state=42, n_jobs = -1) #El cv de 3 dóna millors resultats\n",
    "dtc_random.fit(X_train, y_train)\n",
    "dtc_random.best_params_\n",
    "y_pred_dtc_best_params = dtc_random.predict(X_test)\n",
    "\n",
    "plt.subplot(1, 2, 1)\n",
    "matriu = metrics.confusion_matrix(y_test, y_pred_dtc_best_params)\n",
    "sns.heatmap(matriu, vmin = 0, vmax = 18, annot=True, cbar_kws = {'shrink':0.7}, fmt=\".0f\", linewidths=.5, square = True, cmap = 'magma')\n",
    "plt.ylabel('Actual Class')\n",
    "plt.xlabel('Predicted Class')\n",
    "score = metrics.accuracy_score(y_test, y_pred_dtc_best_params)\n",
    "all_sample_title = 'Adjusted\\nAccuracy Score: {:.3f}'.format(score)\n",
    "plt.title(all_sample_title, size = 13)\n",
    "\n",
    "plt.subplot(1, 2, 2)\n",
    "matriu = metrics.confusion_matrix(y_test, y_pred_dtc)\n",
    "sns.heatmap(matriu, vmin = 0, vmax = 18, annot=True, cbar_kws = {'shrink':0.7}, fmt=\".0f\", linewidths=.5, square = True, cmap = 'magma')\n",
    "plt.ylabel('Actual Class')\n",
    "plt.xlabel('Predicted Class')\n",
    "score = metrics.accuracy_score(y_test, y_pred_dtc)\n",
    "all_sample_title = 'Default\\nAccuracy Score: {:.3f}'.format(score)\n",
    "plt.title(all_sample_title, size = 13)\n",
    "\n",
    "pprint(dtc.get_params())\n",
    "pprint(dtc_random.best_params_)\n"
   ]
  },
  {
   "cell_type": "code",
   "execution_count": 16,
   "metadata": {},
   "outputs": [
    {
     "name": "stdout",
     "output_type": "stream",
     "text": [
      "{'C': 1.0,\n",
      " 'break_ties': False,\n",
      " 'cache_size': 200,\n",
      " 'class_weight': None,\n",
      " 'coef0': 0.0,\n",
      " 'decision_function_shape': 'ovr',\n",
      " 'degree': 3,\n",
      " 'gamma': 'scale',\n",
      " 'kernel': 'linear',\n",
      " 'max_iter': -1,\n",
      " 'probability': False,\n",
      " 'random_state': None,\n",
      " 'shrinking': True,\n",
      " 'tol': 0.001,\n",
      " 'verbose': False}\n"
     ]
    }
   ],
   "source": [
    "pprint(svmc.get_params())"
   ]
  },
  {
   "cell_type": "code",
   "execution_count": 17,
   "metadata": {},
   "outputs": [
    {
     "name": "stdout",
     "output_type": "stream",
     "text": [
      "Fitting 10 folds for each of 25 candidates, totalling 250 fits\n",
      "{'C': 1000, 'gamma': 0.0001, 'kernel': 'rbf'}\n"
     ]
    },
    {
     "data": {
      "text/plain": [
       "Text(0.5, 1.0, 'Default\\nAccuracy Score: 0.956')"
      ]
     },
     "execution_count": 17,
     "metadata": {},
     "output_type": "execute_result"
    },
    {
     "data": {
      "image/png": "[encoded data removed]",
      "text/plain": [
       "<Figure size 432x288 with 4 Axes>"
      ]
     },
     "metadata": {
      "needs_background": "light"
     },
     "output_type": "display_data"
    }
   ],
   "source": [
    "#svmc hyperparameter tuning:\n",
    "hyperparameters = {'C': [0.1, 1, 10, 100, 1000], \n",
    "                    'gamma': [1, 0.1, 0.01, 0.001, 0.0001],\n",
    "                    'kernel': ['rbf']\n",
    "                   }\n",
    "\n",
    "svmc = svm.SVC()\n",
    "svmc_random = GridSearchCV(estimator = svmc, refit = True, param_grid = hyperparameters, cv = 10, verbose=2, n_jobs = -1)\n",
    "svmc_random.fit(X_train, y_train)\n",
    "pprint(svmc_random.best_params_)\n",
    "y_pred_svmc_best_params = svmc_random.predict(X_test)\n",
    "\n",
    "plt.subplot(1, 2, 1)\n",
    "matriu = metrics.confusion_matrix(y_test, y_pred_svmc_best_params)\n",
    "sns.heatmap(matriu, vmin = 0, vmax = 18, annot=True, cbar_kws = {'shrink':0.7}, fmt=\".0f\", linewidths=.5, square = True, cmap = 'magma')\n",
    "plt.ylabel('Actual Class')\n",
    "plt.xlabel('Predicted Class')\n",
    "score = metrics.accuracy_score(y_test, y_pred_svmc_best_params)\n",
    "all_sample_title = 'Adjusted\\nAccuracy Score: {:.3f}'.format(score)\n",
    "plt.title(all_sample_title, size = 13)\n",
    "\n",
    "plt.subplot(1, 2, 2)\n",
    "matriu = metrics.confusion_matrix(y_test, y_pred_svmc)\n",
    "sns.heatmap(matriu, vmin = 0, vmax = 18, annot=True, cbar_kws = {'shrink':0.7}, fmt=\".0f\", linewidths=.5, square = True, cmap = 'magma')\n",
    "plt.ylabel('Actual Class')\n",
    "plt.xlabel('Predicted Class')\n",
    "score = metrics.accuracy_score(y_test, y_pred_svmc)\n",
    "all_sample_title = 'Default\\nAccuracy Score: {:.3f}'.format(score)\n",
    "plt.title(all_sample_title, size = 13)"
   ]
  },
  {
   "cell_type": "code",
   "execution_count": 18,
   "metadata": {},
   "outputs": [
    {
     "name": "stdout",
     "output_type": "stream",
     "text": [
      "{'algorithm': 'auto',\n",
      " 'leaf_size': 30,\n",
      " 'metric': 'minkowski',\n",
      " 'metric_params': None,\n",
      " 'n_jobs': None,\n",
      " 'n_neighbors': 10,\n",
      " 'p': 2,\n",
      " 'weights': 'uniform'}\n"
     ]
    }
   ],
   "source": [
    "pprint(knc.get_params())"
   ]
  },
  {
   "cell_type": "code",
   "execution_count": 19,
   "metadata": {},
   "outputs": [
    {
     "name": "stdout",
     "output_type": "stream",
     "text": [
      "Fitting 10 folds for each of 84 candidates, totalling 840 fits\n",
      "{'metric': 'manhattan', 'n_neighbors': 6, 'weights': 'uniform'}\n"
     ]
    },
    {
     "data": {
      "text/plain": [
       "Text(0.5, 1.0, 'Default\\nAccuracy Score: 0.978')"
      ]
     },
     "execution_count": 19,
     "metadata": {},
     "output_type": "execute_result"
    },
    {
     "data": {
      "image/png": "[encoded data removed]",
      "text/plain": [
       "<Figure size 432x288 with 4 Axes>"
      ]
     },
     "metadata": {
      "needs_background": "light"
     },
     "output_type": "display_data"
    }
   ],
   "source": [
    "#knn hyperparameter tuning:\n",
    "hyperparameters = { 'n_neighbors' : [2,3,4,5,6,7,8,9,10,11,12,13,14,15],\n",
    "                    'weights' : ['uniform','distance'],\n",
    "                    'metric' : ['minkowski','euclidean','manhattan']\n",
    "                  }\n",
    "\n",
    "knc = KNeighborsClassifier()\n",
    "knc_random = GridSearchCV(estimator = knc, refit = True, param_grid = hyperparameters, cv = 10, verbose=2, n_jobs = -1)\n",
    "knc_random.fit(X_train_scaled, y_train)\n",
    "pprint(knc_random.best_params_)\n",
    "y_pred_knc_best_params = knc_random.predict(X_test_scaled)\n",
    "\n",
    "plt.subplot(1, 2, 1)\n",
    "matriu = metrics.confusion_matrix(y_test, y_pred_knc_best_params)\n",
    "sns.heatmap(matriu, vmin = 0, vmax = 18, annot=True, cbar_kws = {'shrink':0.7}, fmt=\".0f\", linewidths=.5, square = True, cmap = 'magma')\n",
    "plt.ylabel('Actual Class')\n",
    "plt.xlabel('Predicted Class')\n",
    "score = metrics.accuracy_score(y_test, y_pred_knc_best_params)\n",
    "all_sample_title = 'Adjusted\\nAccuracy Score: {:.3f}'.format(score)\n",
    "plt.title(all_sample_title, size = 13)\n",
    "\n",
    "plt.subplot(1, 2, 2)\n",
    "matriu = metrics.confusion_matrix(y_test, y_pred_knc)\n",
    "sns.heatmap(matriu, vmin = 0, vmax = 18, annot=True, cbar_kws = {'shrink':0.7}, fmt=\".0f\", linewidths=.5, square = True, cmap = 'magma')\n",
    "plt.ylabel('Actual Class')\n",
    "plt.xlabel('Predicted Class')\n",
    "score = metrics.accuracy_score(y_test, y_pred_knc)\n",
    "all_sample_title = 'Default\\nAccuracy Score: {:.3f}'.format(score)\n",
    "plt.title(all_sample_title, size = 13)"
   ]
  },
  {
   "cell_type": "code",
   "execution_count": 20,
   "metadata": {},
   "outputs": [
    {
     "name": "stdout",
     "output_type": "stream",
     "text": [
      "{'base_score': 0.5,\n",
      " 'booster': 'gbtree',\n",
      " 'callbacks': None,\n",
      " 'colsample_bylevel': 1,\n",
      " 'colsample_bynode': 1,\n",
      " 'colsample_bytree': 1,\n",
      " 'early_stopping_rounds': None,\n",
      " 'enable_categorical': False,\n",
      " 'eval_metric': None,\n",
      " 'gamma': 0,\n",
      " 'gpu_id': -1,\n",
      " 'grow_policy': 'depthwise',\n",
      " 'importance_type': None,\n",
      " 'interaction_constraints': '',\n",
      " 'learning_rate': 0.1,\n",
      " 'max_bin': 256,\n",
      " 'max_cat_to_onehot': 4,\n",
      " 'max_delta_step': 0,\n",
      " 'max_depth': 3,\n",
      " 'max_leaves': 0,\n",
      " 'min_child_weight': 1,\n",
      " 'missing': nan,\n",
      " 'monotone_constraints': '()',\n",
      " 'n_estimators': 400,\n",
      " 'n_jobs': 0,\n",
      " 'num_parallel_tree': 1,\n",
      " 'objective': 'multi:softprob',\n",
      " 'predictor': 'auto',\n",
      " 'random_state': 0,\n",
      " 'reg_alpha': 0,\n",
      " 'reg_lambda': 1,\n",
      " 'sampling_method': 'uniform',\n",
      " 'scale_pos_weight': None,\n",
      " 'subsample': 1,\n",
      " 'tree_method': 'exact',\n",
      " 'use_label_encoder': False,\n",
      " 'validate_parameters': 1,\n",
      " 'verbosity': None}\n"
     ]
    }
   ],
   "source": [
    "pprint(xg.get_params())"
   ]
  },
  {
   "cell_type": "code",
   "execution_count": 21,
   "metadata": {},
   "outputs": [
    {
     "name": "stdout",
     "output_type": "stream",
     "text": [
      "Fitting 10 folds for each of 3840 candidates, totalling 38400 fits\n",
      "{'colsample_bytree': 0.3,\n",
      " 'gamma': 0.0,\n",
      " 'learning_rate': 0.05,\n",
      " 'max_depth': 3,\n",
      " 'min_child_weight': 1}\n"
     ]
    },
    {
     "data": {
      "text/plain": [
       "Text(0.5, 1.0, 'Default\\nAccuracy Score: 1.000')"
      ]
     },
     "execution_count": 21,
     "metadata": {},
     "output_type": "execute_result"
    },
    {
     "data": {
      "image/png": "[encoded data removed]",
      "text/plain": [
       "<Figure size 432x288 with 4 Axes>"
      ]
     },
     "metadata": {
      "needs_background": "light"
     },
     "output_type": "display_data"
    }
   ],
   "source": [
    "#xgboost hyperparameter tuning:\n",
    "hyperparameters = {\"learning_rate\"    : [0.05, 0.10, 0.15, 0.20, 0.25, 0.30 ] ,\n",
    "                   \"max_depth\"        : [ 3, 4, 5, 6, 8, 10, 12, 15],\n",
    "                   \"min_child_weight\" : [ 1, 3, 5, 7 ],\n",
    "                   \"gamma\"            : [ 0.0, 0.1, 0.2 , 0.3, 0.4 ],\n",
    "                   \"colsample_bytree\" : [ 0.3, 0.4, 0.5 , 0.7 ] \n",
    "                  }\n",
    "\n",
    "xg = xgb.XGBClassifier()\n",
    "xg_random = GridSearchCV(estimator = xg, refit = True, param_grid = hyperparameters, cv = 10, verbose=2, n_jobs = -1)\n",
    "xg_random.fit(X_train, y_train2)\n",
    "pprint(xg_random.best_params_)\n",
    "y_pred_xg_best_params = xg_random.predict(X_test)+1\n",
    "\n",
    "plt.subplot(1, 2, 1)\n",
    "matriu = metrics.confusion_matrix(y_test, y_pred_xg_best_params)\n",
    "sns.heatmap(matriu, vmin = 0, vmax = 18, annot=True, cbar_kws = {'shrink':0.7}, fmt=\".0f\", linewidths=.5, square = True, cmap = 'magma')\n",
    "plt.ylabel('Actual Class')\n",
    "plt.xlabel('Predicted Class')\n",
    "score = metrics.accuracy_score(y_test, y_pred_xg_best_params)\n",
    "all_sample_title = 'Adjusted\\nAccuracy Score: {:.3f}'.format(score)\n",
    "plt.title(all_sample_title, size = 13)\n",
    "\n",
    "plt.subplot(1, 2, 2)\n",
    "matriu = metrics.confusion_matrix(y_test, y_pred_xg)\n",
    "sns.heatmap(matriu, vmin = 0, vmax = 18, annot=True, cbar_kws = {'shrink':0.7}, fmt=\".0f\", linewidths=.5, square = True, cmap = 'magma')\n",
    "plt.ylabel('Actual Class')\n",
    "plt.xlabel('Predicted Class')\n",
    "score = metrics.accuracy_score(y_test, y_pred_xg)\n",
    "all_sample_title = 'Default\\nAccuracy Score: {:.3f}'.format(score)\n",
    "plt.title(all_sample_title, size = 13)"
   ]
  },
  {
   "cell_type": "code",
   "execution_count": 22,
   "metadata": {},
   "outputs": [
    {
     "name": "stdout",
     "output_type": "stream",
     "text": [
      "{'C': 1.0,\n",
      " 'class_weight': None,\n",
      " 'dual': False,\n",
      " 'fit_intercept': True,\n",
      " 'intercept_scaling': 1,\n",
      " 'l1_ratio': None,\n",
      " 'max_iter': 10000,\n",
      " 'multi_class': 'auto',\n",
      " 'n_jobs': None,\n",
      " 'penalty': 'l2',\n",
      " 'random_state': None,\n",
      " 'solver': 'lbfgs',\n",
      " 'tol': 0.0001,\n",
      " 'verbose': 0,\n",
      " 'warm_start': False}\n"
     ]
    }
   ],
   "source": [
    "pprint(lr.get_params())"
   ]
  },
  {
   "cell_type": "code",
   "execution_count": 23,
   "metadata": {},
   "outputs": [
    {
     "name": "stdout",
     "output_type": "stream",
     "text": [
      "Fitting 10 folds for each of 2800 candidates, totalling 28000 fits\n"
     ]
    },
    {
     "name": "stderr",
     "output_type": "stream",
     "text": [
      "D:\\Plant\\Programes\\Anaconda\\lib\\site-packages\\sklearn\\model_selection\\_validation.py:378: FitFailedWarning: \n",
      "12600 fits failed out of a total of 28000.\n",
      "The score on these train-test partitions for these parameters will be set to nan.\n",
      "If these failures are not expected, you can try to debug them by setting error_score='raise'.\n",
      "\n",
      "Below are more details about the failures:\n",
      "--------------------------------------------------------------------------------\n",
      "1400 fits failed with the following error:\n",
      "Traceback (most recent call last):\n",
      "  File \"D:\\Plant\\Programes\\Anaconda\\lib\\site-packages\\sklearn\\model_selection\\_validation.py\", line 686, in _fit_and_score\n",
      "    estimator.fit(X_train, y_train, **fit_params)\n",
      "  File \"D:\\Plant\\Programes\\Anaconda\\lib\\site-packages\\sklearn\\linear_model\\_logistic.py\", line 1091, in fit\n",
      "    solver = _check_solver(self.solver, self.penalty, self.dual)\n",
      "  File \"D:\\Plant\\Programes\\Anaconda\\lib\\site-packages\\sklearn\\linear_model\\_logistic.py\", line 61, in _check_solver\n",
      "    raise ValueError(\n",
      "ValueError: Solver lbfgs supports only 'l2' or 'none' penalties, got l1 penalty.\n",
      "\n",
      "--------------------------------------------------------------------------------\n",
      "1400 fits failed with the following error:\n",
      "Traceback (most recent call last):\n",
      "  File \"D:\\Plant\\Programes\\Anaconda\\lib\\site-packages\\sklearn\\model_selection\\_validation.py\", line 686, in _fit_and_score\n",
      "    estimator.fit(X_train, y_train, **fit_params)\n",
      "  File \"D:\\Plant\\Programes\\Anaconda\\lib\\site-packages\\sklearn\\linear_model\\_logistic.py\", line 1091, in fit\n",
      "    solver = _check_solver(self.solver, self.penalty, self.dual)\n",
      "  File \"D:\\Plant\\Programes\\Anaconda\\lib\\site-packages\\sklearn\\linear_model\\_logistic.py\", line 61, in _check_solver\n",
      "    raise ValueError(\n",
      "ValueError: Solver newton-cg supports only 'l2' or 'none' penalties, got l1 penalty.\n",
      "\n",
      "--------------------------------------------------------------------------------\n",
      "1400 fits failed with the following error:\n",
      "Traceback (most recent call last):\n",
      "  File \"D:\\Plant\\Programes\\Anaconda\\lib\\site-packages\\sklearn\\model_selection\\_validation.py\", line 686, in _fit_and_score\n",
      "    estimator.fit(X_train, y_train, **fit_params)\n",
      "  File \"D:\\Plant\\Programes\\Anaconda\\lib\\site-packages\\sklearn\\linear_model\\_logistic.py\", line 1091, in fit\n",
      "    solver = _check_solver(self.solver, self.penalty, self.dual)\n",
      "  File \"D:\\Plant\\Programes\\Anaconda\\lib\\site-packages\\sklearn\\linear_model\\_logistic.py\", line 61, in _check_solver\n",
      "    raise ValueError(\n",
      "ValueError: Solver sag supports only 'l2' or 'none' penalties, got l1 penalty.\n",
      "\n",
      "--------------------------------------------------------------------------------\n",
      "1400 fits failed with the following error:\n",
      "Traceback (most recent call last):\n",
      "  File \"D:\\Plant\\Programes\\Anaconda\\lib\\site-packages\\sklearn\\model_selection\\_validation.py\", line 686, in _fit_and_score\n",
      "    estimator.fit(X_train, y_train, **fit_params)\n",
      "  File \"D:\\Plant\\Programes\\Anaconda\\lib\\site-packages\\sklearn\\linear_model\\_logistic.py\", line 1091, in fit\n",
      "    solver = _check_solver(self.solver, self.penalty, self.dual)\n",
      "  File \"D:\\Plant\\Programes\\Anaconda\\lib\\site-packages\\sklearn\\linear_model\\_logistic.py\", line 61, in _check_solver\n",
      "    raise ValueError(\n",
      "ValueError: Solver lbfgs supports only 'l2' or 'none' penalties, got elasticnet penalty.\n",
      "\n",
      "--------------------------------------------------------------------------------\n",
      "1400 fits failed with the following error:\n",
      "Traceback (most recent call last):\n",
      "  File \"D:\\Plant\\Programes\\Anaconda\\lib\\site-packages\\sklearn\\model_selection\\_validation.py\", line 686, in _fit_and_score\n",
      "    estimator.fit(X_train, y_train, **fit_params)\n",
      "  File \"D:\\Plant\\Programes\\Anaconda\\lib\\site-packages\\sklearn\\linear_model\\_logistic.py\", line 1091, in fit\n",
      "    solver = _check_solver(self.solver, self.penalty, self.dual)\n",
      "  File \"D:\\Plant\\Programes\\Anaconda\\lib\\site-packages\\sklearn\\linear_model\\_logistic.py\", line 61, in _check_solver\n",
      "    raise ValueError(\n",
      "ValueError: Solver newton-cg supports only 'l2' or 'none' penalties, got elasticnet penalty.\n",
      "\n",
      "--------------------------------------------------------------------------------\n",
      "1400 fits failed with the following error:\n",
      "Traceback (most recent call last):\n",
      "  File \"D:\\Plant\\Programes\\Anaconda\\lib\\site-packages\\sklearn\\model_selection\\_validation.py\", line 686, in _fit_and_score\n",
      "    estimator.fit(X_train, y_train, **fit_params)\n",
      "  File \"D:\\Plant\\Programes\\Anaconda\\lib\\site-packages\\sklearn\\linear_model\\_logistic.py\", line 1091, in fit\n",
      "    solver = _check_solver(self.solver, self.penalty, self.dual)\n",
      "  File \"D:\\Plant\\Programes\\Anaconda\\lib\\site-packages\\sklearn\\linear_model\\_logistic.py\", line 71, in _check_solver\n",
      "    raise ValueError(\n",
      "ValueError: Only 'saga' solver supports elasticnet penalty, got solver=liblinear.\n",
      "\n",
      "--------------------------------------------------------------------------------\n",
      "1400 fits failed with the following error:\n",
      "Traceback (most recent call last):\n",
      "  File \"D:\\Plant\\Programes\\Anaconda\\lib\\site-packages\\sklearn\\model_selection\\_validation.py\", line 686, in _fit_and_score\n",
      "    estimator.fit(X_train, y_train, **fit_params)\n",
      "  File \"D:\\Plant\\Programes\\Anaconda\\lib\\site-packages\\sklearn\\linear_model\\_logistic.py\", line 1091, in fit\n",
      "    solver = _check_solver(self.solver, self.penalty, self.dual)\n",
      "  File \"D:\\Plant\\Programes\\Anaconda\\lib\\site-packages\\sklearn\\linear_model\\_logistic.py\", line 61, in _check_solver\n",
      "    raise ValueError(\n",
      "ValueError: Solver sag supports only 'l2' or 'none' penalties, got elasticnet penalty.\n",
      "\n",
      "--------------------------------------------------------------------------------\n",
      "1400 fits failed with the following error:\n",
      "Traceback (most recent call last):\n",
      "  File \"D:\\Plant\\Programes\\Anaconda\\lib\\site-packages\\sklearn\\model_selection\\_validation.py\", line 686, in _fit_and_score\n",
      "    estimator.fit(X_train, y_train, **fit_params)\n",
      "  File \"D:\\Plant\\Programes\\Anaconda\\lib\\site-packages\\sklearn\\linear_model\\_logistic.py\", line 1101, in fit\n",
      "    raise ValueError(\n",
      "ValueError: l1_ratio must be between 0 and 1; got (l1_ratio=None)\n",
      "\n",
      "--------------------------------------------------------------------------------\n",
      "1400 fits failed with the following error:\n",
      "Traceback (most recent call last):\n",
      "  File \"D:\\Plant\\Programes\\Anaconda\\lib\\site-packages\\sklearn\\model_selection\\_validation.py\", line 686, in _fit_and_score\n",
      "    estimator.fit(X_train, y_train, **fit_params)\n",
      "  File \"D:\\Plant\\Programes\\Anaconda\\lib\\site-packages\\sklearn\\linear_model\\_logistic.py\", line 1091, in fit\n",
      "    solver = _check_solver(self.solver, self.penalty, self.dual)\n",
      "  File \"D:\\Plant\\Programes\\Anaconda\\lib\\site-packages\\sklearn\\linear_model\\_logistic.py\", line 78, in _check_solver\n",
      "    raise ValueError(\"penalty='none' is not supported for the liblinear solver\")\n",
      "ValueError: penalty='none' is not supported for the liblinear solver\n",
      "\n",
      "  warnings.warn(some_fits_failed_message, FitFailedWarning)\n",
      "D:\\Plant\\Programes\\Anaconda\\lib\\site-packages\\sklearn\\model_selection\\_search.py:953: UserWarning: One or more of the test scores are non-finite: [       nan        nan 0.33021978 ...        nan 0.91648352 0.90824176]\n",
      "  warnings.warn(\n"
     ]
    },
    {
     "name": "stdout",
     "output_type": "stream",
     "text": [
      "{'C': 3792.690190732246,\n",
      " 'max_iter': 1000,\n",
      " 'penalty': 'l1',\n",
      " 'solver': 'liblinear'}\n"
     ]
    },
    {
     "data": {
      "text/plain": [
       "Text(0.5, 1.0, 'Default\\nAccuracy Score: 0.956')"
      ]
     },
     "execution_count": 23,
     "metadata": {},
     "output_type": "execute_result"
    },
    {
     "data": {
      "image/png": "[encoded data removed]",
      "text/plain": [
       "<Figure size 432x288 with 4 Axes>"
      ]
     },
     "metadata": {
      "needs_background": "light"
     },
     "output_type": "display_data"
    }
   ],
   "source": [
    "#lr hyperparameter tuning:\n",
    "hyperparameters = {'penalty' : ['l1', 'l2', 'elasticnet', 'none'],\n",
    "                   'C' : np.logspace(-4, 4, 20),\n",
    "                   'solver' : ['lbfgs','newton-cg','liblinear','sag','saga'],\n",
    "                   'max_iter' : [100, 1000, 2500, 5000, 7000, 10000, 15000]\n",
    "                  }\n",
    "\n",
    "lr = LogisticRegression()\n",
    "lr_random = GridSearchCV(estimator = lr, refit = True, param_grid = hyperparameters, cv = 10, verbose=2, n_jobs = -1)\n",
    "lr_random.fit(X_train, y_train)\n",
    "pprint(lr_random.best_params_)\n",
    "y_pred_lr_best_params = lr_random.predict(X_test)\n",
    "\n",
    "plt.subplot(1, 2, 1)\n",
    "matriu = metrics.confusion_matrix(y_test, y_pred_lr_best_params)\n",
    "sns.heatmap(matriu, vmin = 0, vmax = 18, annot=True, cbar_kws = {'shrink':0.7}, fmt=\".0f\", linewidths=.5, square = True, cmap = 'magma')\n",
    "plt.ylabel('Actual Class')\n",
    "plt.xlabel('Predicted Class')\n",
    "score = metrics.accuracy_score(y_test, y_pred_lr_best_params)\n",
    "all_sample_title = 'Adjusted\\nAccuracy Score: {:.3f}'.format(score)\n",
    "plt.title(all_sample_title, size = 13)\n",
    "\n",
    "plt.subplot(1, 2, 2)\n",
    "matriu = metrics.confusion_matrix(y_test, y_pred_lr)\n",
    "sns.heatmap(matriu, vmin = 0, vmax = 18, annot=True, cbar_kws = {'shrink':0.7}, fmt=\".0f\", linewidths=.5, square = True, cmap = 'magma')\n",
    "plt.ylabel('Actual Class')\n",
    "plt.xlabel('Predicted Class')\n",
    "score = metrics.accuracy_score(y_test, y_pred_lr)\n",
    "all_sample_title = 'Default\\nAccuracy Score: {:.3f}'.format(score)\n",
    "plt.title(all_sample_title, size = 13)"
   ]
  },
  {
   "cell_type": "markdown",
   "metadata": {},
   "source": [
    "# Exercici 4 \n",
    "Compara el seu rendiment fent servir l’aproximació traint/test o cross-validation."
   ]
  },
  {
   "cell_type": "code",
   "execution_count": 24,
   "metadata": {},
   "outputs": [
    {
     "name": "stdout",
     "output_type": "stream",
     "text": [
      "Accuracy:                 Cross validation       Train-test\n",
      " -Decision Tree:          0.865032679738562 0.9555555555555556\n",
      " -Support Vector Machine: 0.681045751633987 0.9555555555555556\n",
      " -K-Nearest Neighbour:    0.6973856209150326 0.9777777777777777\n",
      " -XGBoost:                0.9666666666666666 1.0\n",
      " -Logistic Regression:    0.9666666666666666 0.9555555555555556\n"
     ]
    }
   ],
   "source": [
    "kfold_validation = KFold(10)\n",
    "dtc = tree.DecisionTreeClassifier(random_state=42)\n",
    "svmc = svm.SVC()\n",
    "xg = xgb.XGBClassifier(n_estimators = 400, learning_rate = 0.1, max_depth = 3)\n",
    "lr = LogisticRegression(max_iter=10000)\n",
    "knc = KNeighborsClassifier(n_neighbors=10)\n",
    "\n",
    "X = df[features]\n",
    "y = np.array(df[target]).ravel()\n",
    "le = LabelEncoder()\n",
    "y2 = le.fit_transform(y)\n",
    "\n",
    "\n",
    "print(\"Accuracy:                 Cross validation       Train-test\")\n",
    "print(classificadors[0], np.mean(cross_val_score(dtc, X, y, cv = 10)), accuracy[0])\n",
    "print(classificadors[1], np.mean(cross_val_score(svmc, X, y, cv = 10)), accuracy[1])\n",
    "print(classificadors[2], np.mean(cross_val_score(knc, X, y, cv = 10)), accuracy[2])\n",
    "print(classificadors[3], np.mean(cross_val_score(xg, X, y2, cv = 10)), accuracy[3])\n",
    "print(classificadors[4], np.mean(cross_val_score(lr, X, y, cv = 10)), accuracy[4])\n",
    "\n"
   ]
  },
  {
   "cell_type": "markdown",
   "metadata": {},
   "source": [
    "# Exercici 5 \n",
    "Aplica algun procés d'enginyeria per millorar els resultats (normalització, estandardització, mostreig...)"
   ]
  },
  {
   "cell_type": "code",
   "execution_count": 25,
   "metadata": {},
   "outputs": [],
   "source": [
    "#Standarization:"
   ]
  },
  {
   "cell_type": "code",
   "execution_count": 32,
   "metadata": {},
   "outputs": [
    {
     "name": "stdout",
     "output_type": "stream",
     "text": [
      "    Alcohol  Malic acid       Ash  Alcalinity of ash  Magnesium  \\\n",
      "0  1.518613   -0.562250  0.232053          -1.169593   1.913905   \n",
      "1  0.246290   -0.499413 -0.827996          -2.490847   0.018145   \n",
      "2  0.196879    0.021231  1.109334          -0.268738   0.088358   \n",
      "3  1.691550   -0.346811  0.487926          -0.809251   0.930918   \n",
      "4  0.295700    0.227694  1.840403           0.451946   1.281985   \n",
      "\n",
      "   Total phenols  Flavanoids  Nonflavanoid phenols  Proanthocyanins  \\\n",
      "0       0.808997    1.034819             -0.659563         1.224884   \n",
      "1       0.568648    0.733629             -0.820719        -0.544721   \n",
      "2       0.808997    1.215533             -0.498407         2.135968   \n",
      "3       2.491446    1.466525             -0.981875         1.032155   \n",
      "4       0.808997    0.663351              0.226796         0.401404   \n",
      "\n",
      "   Color intensity       Hue  OD280/OD315 of diluted wines    Prolin  \n",
      "0         0.251717  0.362177                      1.847920  1.013009  \n",
      "1        -0.293321  0.406051                      1.113449  0.965242  \n",
      "2         0.269020  0.318304                      0.788587  1.395148  \n",
      "3         1.186068 -0.427544                      1.184071  2.334574  \n",
      "4        -0.319276  0.362177                      0.449601 -0.037874  \n",
      "<class 'pandas.core.frame.DataFrame'>\n",
      "RangeIndex: 178 entries, 0 to 177\n",
      "Data columns (total 13 columns):\n",
      " #   Column                        Non-Null Count  Dtype  \n",
      "---  ------                        --------------  -----  \n",
      " 0   Alcohol                       178 non-null    float64\n",
      " 1   Malic acid                    178 non-null    float64\n",
      " 2   Ash                           178 non-null    float64\n",
      " 3   Alcalinity of ash             178 non-null    float64\n",
      " 4   Magnesium                     178 non-null    float64\n",
      " 5   Total phenols                 178 non-null    float64\n",
      " 6   Flavanoids                    178 non-null    float64\n",
      " 7   Nonflavanoid phenols          178 non-null    float64\n",
      " 8   Proanthocyanins               178 non-null    float64\n",
      " 9   Color intensity               178 non-null    float64\n",
      " 10  Hue                           178 non-null    float64\n",
      " 11  OD280/OD315 of diluted wines  178 non-null    float64\n",
      " 12  Prolin                        178 non-null    float64\n",
      "dtypes: float64(13)\n",
      "memory usage: 18.2 KB\n",
      "None\n",
      "                              count          mean       std       min  \\\n",
      "Alcohol                       178.0 -8.619821e-16  1.002821 -2.434235   \n",
      "Malic acid                    178.0 -8.357859e-17  1.002821 -1.432983   \n",
      "Ash                           178.0 -8.657245e-16  1.002821 -3.679162   \n",
      "Alcalinity of ash             178.0 -1.160121e-16  1.002821 -2.671018   \n",
      "Magnesium                     178.0 -1.995907e-17  1.002821 -2.088255   \n",
      "Total phenols                 178.0 -2.972030e-16  1.002821 -2.107246   \n",
      "Flavanoids                    178.0 -4.016762e-16  1.002821 -1.695971   \n",
      "Nonflavanoid phenols          178.0  4.079134e-16  1.002821 -1.868234   \n",
      "Proanthocyanins               178.0 -1.699639e-16  1.002821 -2.069034   \n",
      "Color intensity               178.0 -1.247442e-18  1.002821 -1.634288   \n",
      "Hue                           178.0  3.717376e-16  1.002821 -2.094732   \n",
      "OD280/OD315 of diluted wines  178.0  2.919013e-16  1.002821 -1.895054   \n",
      "Prolin                        178.0 -7.484650e-18  1.002821 -1.493188   \n",
      "\n",
      "                                   25%       50%       75%       max  \n",
      "Alcohol                      -0.788245  0.061000  0.836129  2.259772  \n",
      "Malic acid                   -0.658749 -0.423112  0.669793  3.109192  \n",
      "Ash                          -0.572122 -0.023821  0.698109  3.156325  \n",
      "Alcalinity of ash            -0.689137  0.001518  0.602088  3.154511  \n",
      "Magnesium                    -0.824415 -0.122282  0.509638  4.371372  \n",
      "Total phenols                -0.885468  0.095960  0.808997  2.539515  \n",
      "Flavanoids                   -0.827539  0.106150  0.849085  3.062832  \n",
      "Nonflavanoid phenols         -0.740141 -0.176095  0.609541  2.402403  \n",
      "Proanthocyanins              -0.597284 -0.062898  0.629175  3.485073  \n",
      "Color intensity              -0.795103 -0.159225  0.493956  3.435432  \n",
      "Hue                          -0.767562  0.033127  0.713164  3.301694  \n",
      "OD280/OD315 of diluted wines -0.952248  0.237735  0.788587  1.960915  \n",
      "Prolin                       -0.784638 -0.233720  0.758249  2.971473  \n",
      "      Alcohol  Malic acid       Ash  Alcalinity of ash  Magnesium  \\\n",
      "0    1.518613   -0.562250  0.232053          -1.169593   1.913905   \n",
      "1    0.246290   -0.499413 -0.827996          -2.490847   0.018145   \n",
      "2    0.196879    0.021231  1.109334          -0.268738   0.088358   \n",
      "3    1.691550   -0.346811  0.487926          -0.809251   0.930918   \n",
      "4    0.295700    0.227694  1.840403           0.451946   1.281985   \n",
      "..        ...         ...       ...                ...        ...   \n",
      "173  0.876275    2.974543  0.305159           0.301803  -0.332922   \n",
      "174  0.493343    1.412609  0.414820           1.052516   0.158572   \n",
      "175  0.332758    1.744744 -0.389355           0.151661   1.422412   \n",
      "176  0.209232    0.227694  0.012732           0.151661   1.422412   \n",
      "177  1.395086    1.583165  1.365208           1.502943  -0.262708   \n",
      "\n",
      "     Total phenols  Flavanoids  Nonflavanoid phenols  Proanthocyanins  \\\n",
      "0         0.808997    1.034819             -0.659563         1.224884   \n",
      "1         0.568648    0.733629             -0.820719        -0.544721   \n",
      "2         0.808997    1.215533             -0.498407         2.135968   \n",
      "3         2.491446    1.466525             -0.981875         1.032155   \n",
      "4         0.808997    0.663351              0.226796         0.401404   \n",
      "..             ...         ...                   ...              ...   \n",
      "173      -0.985614   -1.424900              1.274310        -0.930179   \n",
      "174      -0.793334   -1.284344              0.549108        -0.316950   \n",
      "175      -1.129824   -1.344582              0.549108        -0.422075   \n",
      "176      -1.033684   -1.354622              1.354888        -0.229346   \n",
      "177      -0.392751   -1.274305              1.596623        -0.422075   \n",
      "\n",
      "     Color intensity       Hue  OD280/OD315 of diluted wines    Prolin  \n",
      "0           0.251717  0.362177                      1.847920  1.013009  \n",
      "1          -0.293321  0.406051                      1.113449  0.965242  \n",
      "2           0.269020  0.318304                      0.788587  1.395148  \n",
      "3           1.186068 -0.427544                      1.184071  2.334574  \n",
      "4          -0.319276  0.362177                      0.449601 -0.037874  \n",
      "..               ...       ...                           ...       ...  \n",
      "173         1.142811 -1.392758                     -1.231206 -0.021952  \n",
      "174         0.969783 -1.129518                     -1.485445  0.009893  \n",
      "175         2.224236 -1.612125                     -1.485445  0.280575  \n",
      "176         1.834923 -1.568252                     -1.400699  0.296498  \n",
      "177         1.791666 -1.524378                     -1.428948 -0.595160  \n",
      "\n",
      "[178 rows x 13 columns]\n",
      "[1 1 1 1 1 1 1 1 1 1 1 1 1 1 1 1 1 1 1 1 1 1 1 1 1 1 1 1 1 1 1 1 1 1 1 1 1\n",
      " 1 1 1 1 1 1 1 1 1 1 1 1 1 1 1 1 1 1 1 1 1 1 2 2 2 2 2 2 2 2 2 2 2 2 2 2 2\n",
      " 2 2 2 2 2 2 2 2 2 2 2 2 2 2 2 2 2 2 2 2 2 2 2 2 2 2 2 2 2 2 2 2 2 2 2 2 2\n",
      " 2 2 2 2 2 2 2 2 2 2 2 2 2 2 2 2 2 2 2 3 3 3 3 3 3 3 3 3 3 3 3 3 3 3 3 3 3\n",
      " 3 3 3 3 3 3 3 3 3 3 3 3 3 3 3 3 3 3 3 3 3 3 3 3 3 3 3 3 3 3]\n"
     ]
    }
   ],
   "source": [
    "X = df[features]\n",
    "y = np.array(df[target]).reshape(-1)\n",
    "scaler = StandardScaler()\n",
    "scaled = scaler.fit_transform(X)\n",
    "X_scaled = pd.DataFrame(scaler.transform(X), columns=columnes[1:])\n",
    "print(X_scaled.head())\n",
    "print(X_scaled.info())\n",
    "print(X_scaled.describe().transpose())\n",
    "\n",
    "print(X_scaled)\n",
    "print(y)"
   ]
  },
  {
   "cell_type": "code",
   "execution_count": 33,
   "metadata": {},
   "outputs": [
    {
     "name": "stdout",
     "output_type": "stream",
     "text": [
      "[1 2 1 1 2 1 1 2 2 3 2 2 3 3 1 2 2 1 1 3 3 3 1 1 2 2 1 2 1 2 1 3 2 3 3 2 1\n",
      " 3 3 2 3 2 1 2 2]\n",
      "[array([1, 2, 1, 1, 2, 1, 1, 2, 2, 3, 2, 2, 3, 3, 1, 1, 2, 1, 1, 3, 3, 3,\n",
      "       1, 1, 2, 2, 1, 2, 2, 2, 1, 3, 2, 3, 3, 2, 1, 3, 3, 2, 3, 2, 1, 2,\n",
      "       2], dtype=int64), array([1, 2, 1, 1, 2, 1, 1, 2, 2, 3, 2, 2, 3, 3, 1, 1, 2, 1, 1, 3, 3, 3,\n",
      "       1, 1, 2, 2, 1, 2, 1, 2, 1, 3, 2, 3, 3, 2, 1, 3, 2, 2, 3, 2, 1, 2,\n",
      "       2], dtype=int64), array([1, 2, 1, 1, 2, 1, 1, 2, 2, 3, 2, 2, 3, 3, 1, 2, 2, 1, 1, 3, 3, 3,\n",
      "       1, 1, 3, 2, 1, 2, 1, 2, 1, 3, 2, 3, 3, 2, 1, 3, 3, 2, 3, 2, 1, 2,\n",
      "       2], dtype=int64), array([1, 2, 1, 1, 2, 1, 1, 2, 2, 3, 2, 2, 3, 3, 1, 2, 2, 1, 1, 3, 3, 3,\n",
      "       1, 1, 2, 2, 1, 2, 1, 2, 1, 3, 2, 3, 3, 2, 1, 3, 3, 2, 3, 2, 1, 2,\n",
      "       2], dtype=int64), array([1, 2, 1, 1, 2, 1, 1, 2, 2, 3, 2, 2, 3, 3, 1, 2, 2, 1, 1, 3, 3, 3,\n",
      "       1, 1, 2, 2, 1, 2, 1, 2, 1, 3, 2, 3, 3, 2, 1, 3, 2, 2, 3, 2, 1, 2,\n",
      "       2], dtype=int64)]\n"
     ]
    }
   ],
   "source": [
    "X_train, X_test, y_train, y_test = train_test_split(X_scaled, y, stratify = y, test_size=0.25, random_state=42)\n",
    "\n",
    "dtc = tree.DecisionTreeClassifier()\n",
    "dtc.fit(X_train,y_train)\n",
    "y_pred_dtc = dtc.predict(X_test)\n",
    "\n",
    "svmc = svm.SVC(kernel='linear')\n",
    "svmc.fit(X_train, y_train)\n",
    "y_pred_svmc = svmc.predict(X_test)\n",
    "\n",
    "xg = xgb.XGBClassifier(n_estimators = 400, learning_rate = 0.1, max_depth = 3)\n",
    "le = LabelEncoder()\n",
    "y_train2 = le.fit_transform(y_train)\n",
    "xg.fit(X_train, y_train2)\n",
    "y_pred_xg = xg.predict(X_test)+1\n",
    "\n",
    "lr = LogisticRegression(max_iter=10000)\n",
    "lr.fit(X_train, y_train)\n",
    "y_pred_lr = lr.predict(X_test)\n",
    "\n",
    "scaler = StandardScaler()\n",
    "scaler.fit(X_train)\n",
    "X_train_scaled = scaler.transform(X_train)\n",
    "X_test_scaled = scaler.transform(X_test)\n",
    "knc = KNeighborsClassifier(n_neighbors=10)\n",
    "knc.fit(X_train_scaled, y_train)\n",
    "y_pred_knc = knc.predict(X_test_scaled)\n",
    "\n",
    "print(y_test)\n",
    "prediccions = [y_pred_dtc,y_pred_svmc,y_pred_knc,y_pred_xg,y_pred_lr]\n",
    "print(prediccions)"
   ]
  },
  {
   "cell_type": "code",
   "execution_count": 37,
   "metadata": {},
   "outputs": [
    {
     "name": "stdout",
     "output_type": "stream",
     "text": [
      "Accuracy:\n",
      " -Decision Tree:          0.9555555555555556\n",
      " -Support Vector Machine: 0.9555555555555556\n",
      " -K-Nearest Neighbour:    0.9777777777777777\n",
      " -XGBoost:                1.0\n",
      " -Logistic Regression:    0.9777777777777777\n",
      "\n",
      "\n",
      "Precision:\n",
      " -Decision Tree:          [0.93333333 0.94444444 1.        ]\n",
      " -Support Vector Machine: [0.9375     0.94444444 1.        ]\n",
      " -K-Nearest Neighbour:    [1.         1.         0.92307692]\n",
      " -XGBoost:                [1. 1. 1.]\n",
      " -Logistic Regression:    [1.         0.94736842 1.        ]\n",
      "\n",
      "\n",
      "Recall:\n",
      " -Decision Tree:          [0.93333333 0.94444444 1.        ]\n",
      " -Support Vector Machine: [1.         0.94444444 0.91666667]\n",
      " -K-Nearest Neighbour:    [1.         0.94444444 1.        ]\n",
      " -XGBoost:                [1. 1. 1.]\n",
      " -Logistic Regression:    [1.         1.         0.91666667]\n",
      "\n",
      "\n",
      "F1 score:\n",
      " -Decision Tree:          [0.93333333 0.94444444 1.        ]\n",
      " -Support Vector Machine: [0.96774194 0.94444444 0.95652174]\n",
      " -K-Nearest Neighbour:    [1.         0.97142857 0.96      ]\n",
      " -XGBoost:                [1. 1. 1.]\n",
      " -Logistic Regression:    [1.         0.97297297 0.95652174]\n",
      "\n",
      "auc scores\n",
      "{1: 0.95, 2: 0.9537037037037037, 3: 1.0}\n",
      "\n",
      "\n",
      "Ha augmentat una mica la predicció de la regressió logística.\n"
     ]
    },
    {
     "data": {
      "image/png": "[encoded data removed]",
      "text/plain": [
       "<Figure size 1440x360 with 10 Axes>"
      ]
     },
     "metadata": {
      "needs_background": "light"
     },
     "output_type": "display_data"
    },
    {
     "data": {
      "image/png": "[encoded data removed]",
      "text/plain": [
       "<Figure size 1440x216 with 5 Axes>"
      ]
     },
     "metadata": {
      "needs_background": "light"
     },
     "output_type": "display_data"
    }
   ],
   "source": [
    "#Accuracy\n",
    "\n",
    "classificadors = [' -Decision Tree:         ',' -Support Vector Machine:',' -K-Nearest Neighbour:   ',' -XGBoost:               ',' -Logistic Regression:   ']\n",
    "accuracy = []\n",
    "print('Accuracy:')\n",
    "i=0\n",
    "for y_pred in prediccions:\n",
    "    score = metrics.accuracy_score(y_test, y_pred)\n",
    "    accuracy.append(score)\n",
    "    print(classificadors[i],score)\n",
    "    i+=1\n",
    "\n",
    "#Confusion matrix\n",
    "\n",
    "i=0\n",
    "cm = []\n",
    "for y_pred in prediccions:\n",
    "    matriu = metrics.confusion_matrix(y_test, y_pred)\n",
    "    cm.append(matriu)\n",
    "    i+=1\n",
    "\n",
    "classificadors2 = ['Decision Tree','Support Vector Machines','K-Nearest Neighbours','XGBoost','Logistic Regression']\n",
    "\n",
    "plt.figure(figsize=(20,5))\n",
    "i=0\n",
    "\n",
    "for matrix in cm:\n",
    "    plt.subplot(1, 5, i+1)\n",
    "    sns.heatmap(matrix, vmin = 0, vmax = 18, annot=True, cbar_kws = {'shrink':0.7}, fmt=\".0f\", linewidths=.5, square = True, cmap = 'magma')\n",
    "    plt.ylabel('Actual Class')\n",
    "    plt.xlabel('Predicted Class')\n",
    "    all_sample_title = classificadors2[i]+'\\nAccuracy Score: {:.3f}'.format(accuracy[i])\n",
    "    plt.title(all_sample_title, size = 13)\n",
    "    i+=1\n",
    "\n",
    "#Precision\n",
    "\n",
    "precision = []\n",
    "print('\\n')\n",
    "print('Precision:')\n",
    "i=0\n",
    "for y_pred in prediccions:\n",
    "    score = metrics.precision_score(y_test, y_pred, average = None)\n",
    "    precision.append(score)\n",
    "    print(classificadors[i],score)\n",
    "    i+=1\n",
    "\n",
    "#Recall\n",
    "\n",
    "print('\\n')\n",
    "recall = []\n",
    "print('Recall:')\n",
    "i=0\n",
    "for y_pred in prediccions:\n",
    "    score = metrics.recall_score(y_test, y_pred, average = None)\n",
    "    recall.append(score)\n",
    "    print(classificadors[i],score)\n",
    "    i+=1\n",
    "    \n",
    "#F1 score\n",
    "\n",
    "f1 = []\n",
    "print('\\n')\n",
    "print('F1 score:')\n",
    "i=0\n",
    "for y_pred in prediccions:\n",
    "    score = metrics.f1_score(y_test, y_pred, average = None)\n",
    "    f1.append(score)\n",
    "    print(classificadors[i],score)\n",
    "    i+=1\n",
    "\n",
    "#ROC curve\n",
    "\n",
    "classificadors2 = ['Decision Tree','Support Vector Machines','K-Nearest Neighbours','XGBoost','Logistic Regression']\n",
    "\n",
    "plt.figure(figsize=(20,3))\n",
    "i=0\n",
    "\n",
    "for y_pred in prediccions:\n",
    "    fpr, tpr, _ = metrics.roc_curve(y_test,  prediccions[i], pos_label=3)\n",
    "    plt.subplot(1, 5, i+1)\n",
    "    plt.plot(fpr,tpr)\n",
    "    plt.ylabel('True Positive Rate')\n",
    "    plt.xlabel('False Positive Rate')\n",
    "    all_sample_title = classificadors2[i]+'\\nROC curve'\n",
    "    plt.title(all_sample_title, size = 13)\n",
    "    i+=1\n",
    "\n",
    "def roc_auc_score_multiclass(actual_class, pred_class, average = \"macro\"):\n",
    "    #creating a set of all the unique classes using the actual class list\n",
    "    unique_class = set(actual_class)\n",
    "    roc_auc_dict = {}\n",
    "    for per_class in unique_class:\n",
    "        #creating a list of all the classes except the current class \n",
    "        other_class = [x for x in unique_class if x != per_class]\n",
    "\n",
    "        #marking the current class as 1 and all other classes as 0\n",
    "        new_actual_class = [0 if x in other_class else 1 for x in actual_class]\n",
    "        new_pred_class = [0 if x in other_class else 1 for x in pred_class]\n",
    "\n",
    "        #using the sklearn metrics method to calculate the roc_auc_score\n",
    "        roc_auc = metrics.roc_auc_score(new_actual_class, new_pred_class, average = average)\n",
    "        roc_auc_dict[per_class] = roc_auc\n",
    "\n",
    "    return roc_auc_dict\n",
    "\n",
    "print(\"\\nauc scores\")\n",
    "\n",
    "lr_roc_auc_multiclass = roc_auc_score_multiclass(y_test, prediccions[0])\n",
    "print(lr_roc_auc_multiclass)\n",
    "\n",
    "print('\\n')\n",
    "print('Ha augmentat una mica la predicció de la regressió logística.')"
   ]
  }
 ],
 "metadata": {
  "kernelspec": {
   "display_name": "Python 3",
   "language": "python",
   "name": "python3"
  },
  "language_info": {
   "codemirror_mode": {
    "name": "ipython",
    "version": 3
   },
   "file_extension": ".py",
   "mimetype": "text/x-python",
   "name": "python",
   "nbconvert_exporter": "python",
   "pygments_lexer": "ipython3",
   "version": "3.8.3"
  }
 },
 "nbformat": 4,
 "nbformat_minor": 4
}
